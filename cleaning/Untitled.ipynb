{
 "cells": [
  {
   "cell_type": "code",
   "execution_count": null,
   "metadata": {},
   "outputs": [],
   "source": [
    "https://api.covid19api.com/\n",
    "    \n"
   ]
  },
  {
   "cell_type": "code",
   "execution_count": 5,
   "metadata": {},
   "outputs": [],
   "source": [
    "# import dependecies \n",
    "import pandas as pd\n",
    "import matplotlib.pyplot as plt\n",
    "import matplotlib.patches as mpatches\n",
    "import numpy as np\n",
    "import requests\n",
    "import json\n",
    "import csv\n",
    "from pprint import pprint"
   ]
  },
  {
   "cell_type": "code",
   "execution_count": 3,
   "metadata": {},
   "outputs": [],
   "source": [
    "url1 = 'https://api.covid19api.com/'\n",
    "response1 = requests.get(url1)\n",
    "covid_jh_api = response1.json()"
   ]
  },
  {
   "cell_type": "code",
   "execution_count": 4,
   "metadata": {},
   "outputs": [
    {
     "data": {
      "text/plain": [
       "dict_keys(['countriesRoute', 'countryDayOneRoute', 'countryDayOneTotalRoute', 'countryRoute', 'countryRoutePremium', 'countryRoutePremiumData', 'countryStatusDayOneLiveRoute', 'countryStatusDayOneRoute', 'countryStatusDayOneTotalRoute', 'countryStatusLiveRoute', 'countryStatusRoute', 'countryStatusTotalRoute', 'countrySummaryRoutePremium', 'countryTestingPremium', 'countryTotalRoute', 'exportRoute', 'liveCountryRoute', 'liveCountryStatusAfterDateRoute', 'liveCountryStatusRoute', 'summaryRoute', 'travelAdvicePremium', 'webhookRoute'])"
      ]
     },
     "execution_count": 4,
     "metadata": {},
     "output_type": "execute_result"
    }
   ],
   "source": [
    "covid_jh_api.keys()"
   ]
  },
  {
   "cell_type": "code",
   "execution_count": 9,
   "metadata": {},
   "outputs": [
    {
     "name": "stdout",
     "output_type": "stream",
     "text": [
      "{'Description': 'Returns all countries and associated provinces. The '\n",
      "                'country_slug variable is used for country specific data',\n",
      " 'Name': 'Get List Of Countries',\n",
      " 'Path': '/countries'}\n"
     ]
    }
   ],
   "source": [
    "pprint(covid_jh_api['countriesRoute'])"
   ]
  },
  {
   "cell_type": "code",
   "execution_count": null,
   "metadata": {},
   "outputs": [],
   "source": []
  },
  {
   "cell_type": "code",
   "execution_count": null,
   "metadata": {},
   "outputs": [],
   "source": []
  }
 ],
 "metadata": {
  "kernelspec": {
   "display_name": "Python 3",
   "language": "python",
   "name": "python3"
  },
  "language_info": {
   "codemirror_mode": {
    "name": "ipython",
    "version": 3
   },
   "file_extension": ".py",
   "mimetype": "text/x-python",
   "name": "python",
   "nbconvert_exporter": "python",
   "pygments_lexer": "ipython3",
   "version": "3.8.3"
  }
 },
 "nbformat": 4,
 "nbformat_minor": 4
}
